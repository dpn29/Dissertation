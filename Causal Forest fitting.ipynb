{
 "cells": [
  {
   "cell_type": "code",
   "execution_count": 1,
   "metadata": {},
   "outputs": [
    {
     "name": "stderr",
     "output_type": "stream",
     "text": [
      "Warning message:\n",
      "\"package 'grf' was built under R version 3.6.3\""
     ]
    }
   ],
   "source": [
    "library(grf)"
   ]
  },
  {
   "cell_type": "code",
   "execution_count": 2,
   "metadata": {},
   "outputs": [],
   "source": [
    "setwd(\"C:/_Dissertation/Datasets\")"
   ]
  },
  {
   "cell_type": "code",
   "execution_count": 3,
   "metadata": {},
   "outputs": [],
   "source": [
    "X <- read.csv(\"X_nt_normalised.csv\")\n",
    "X <- X[,2:46]\n",
    "X <- data.matrix(X)"
   ]
  },
  {
   "cell_type": "code",
   "execution_count": 4,
   "metadata": {},
   "outputs": [],
   "source": [
    "num_knobs <- 9\n",
    "num_datasets <- 10\n",
    "ate_results <- array(rep(NaN, num_knobs*num_datasets), c(num_knobs, num_datasets))"
   ]
  },
  {
   "cell_type": "code",
   "execution_count": null,
   "metadata": {},
   "outputs": [],
   "source": [
    "start_time <- Sys.time()\n",
    "for (knob in 0:(num_knobs-1)){\n",
    "    for (dataset in 0:(num_datasets-1)){\n",
    "        name <- paste(\"knob_\", as.character(knob), \"/dataset_\", as.character(dataset), \".csv\", sep=\"\")\n",
    "        df <- read.csv(name)\n",
    "        y <- unlist(df[\"y\"])\n",
    "        D <- unlist(df[\"D\"])\n",
    "        print(paste(\"fitting\", name))\n",
    "        forest <- causal_forest(X, y, D, num.threads=4, seed=0)\n",
    "        tauhat <- predict(forest, X, estimate.variance=TRUE)\n",
    "        write.csv(data.frame(tauhat), file=paste(\"results_knob_\", as.character(knob), \"_dataset_\", as.character(dataset), \".csv\", sep=\"\"))\n",
    "        atehat <- average_treatment_effect(forest, target.sample=\"all\")\n",
    "        ate_results[knob, dataset] <- atehat\n",
    "    }\n",
    "}\n",
    "write.csv(ate_results, file=\"ate_results.csv\")\n",
    "end_time <- Sys.time()\n",
    "end_time - start_time"
   ]
  },
  {
   "cell_type": "code",
   "execution_count": null,
   "metadata": {},
   "outputs": [],
   "source": []
  }
 ],
 "metadata": {
  "kernelspec": {
   "display_name": "R",
   "language": "R",
   "name": "ir"
  },
  "language_info": {
   "codemirror_mode": "r",
   "file_extension": ".r",
   "mimetype": "text/x-r-source",
   "name": "R",
   "pygments_lexer": "r",
   "version": "3.6.1"
  }
 },
 "nbformat": 4,
 "nbformat_minor": 4
}
