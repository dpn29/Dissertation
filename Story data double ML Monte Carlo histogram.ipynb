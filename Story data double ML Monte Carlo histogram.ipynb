{
 "cells": [
  {
   "cell_type": "code",
   "execution_count": 1,
   "metadata": {},
   "outputs": [],
   "source": [
    "import numpy as np\n",
    "import pandas as pd\n",
    "from sklearn.datasets import make_spd_matrix\n",
    "from sklearn.ensemble import RandomForestRegressor\n",
    "from sklearn.svm import SVR\n",
    "from sklearn.neural_network import MLPRegressor\n",
    "from sklearn.base import clone\n",
    "import statsmodels.api as sm\n",
    "import matplotlib.pyplot as plt\n",
    "import seaborn as sns\n",
    "import doubleml as dml\n",
    "from tqdm.notebook import tqdm"
   ]
  },
  {
   "cell_type": "code",
   "execution_count": 2,
   "metadata": {},
   "outputs": [],
   "source": [
    "def m(X):\n",
    "    assert X.shape[1]==3\n",
    "    return -X.sum(axis=1)"
   ]
  },
  {
   "cell_type": "code",
   "execution_count": 3,
   "metadata": {},
   "outputs": [],
   "source": [
    "def g(X):\n",
    "    assert X.shape[1]==3\n",
    "    return X[:, 0] + np.exp(X[:, 1]) + np.int8(X[:, 2]>0) + 0.5*np.multiply(X[:, 0], X[:, 1])"
   ]
  },
  {
   "cell_type": "code",
   "execution_count": 4,
   "metadata": {},
   "outputs": [],
   "source": [
    "def generate_data(n, dim, theta, random_state):\n",
    "    np.random.seed(random_state)\n",
    "    cov = make_spd_matrix(dim)\n",
    "    X = np.random.multivariate_normal(np.zeros(dim), cov, n)\n",
    "    D = m(X) + np.random.normal(0.0, 1.0, n)\n",
    "    D = np.int8(D>0)\n",
    "    y = theta*D + g(X) + np.random.normal(0.0, 1.0, n)\n",
    "    df = pd.DataFrame(data=X)\n",
    "    df['y'] = y\n",
    "    df['D'] = D\n",
    "    return df"
   ]
  },
  {
   "cell_type": "code",
   "execution_count": 5,
   "metadata": {},
   "outputs": [],
   "source": [
    "def fit_DML(data, g_estimator_o, m_estimator_o, par_grids=None):\n",
    "    if par_grids is None:\n",
    "        x_col_names = list(data.columns)\n",
    "        x_col_names.remove('y')\n",
    "        x_col_names.remove('D')\n",
    "        dml_data = dml.DoubleMLData(data=data, y_col='y', d_cols='D', x_cols=x_col_names)\n",
    "        g_estimator = clone(g_estimator_o)\n",
    "        m_estimator = clone(m_estimator_o)\n",
    "        dml_est = dml.DoubleMLPLR(dml_data, g_estimator, m_estimator, n_folds=5)\n",
    "        return dml_est.fit().summary"
   ]
  },
  {
   "cell_type": "code",
   "execution_count": 6,
   "metadata": {},
   "outputs": [],
   "source": [
    "def fit_naive_reg(data):\n",
    "    X = sm.add_constant(data.drop('y', axis=1))\n",
    "    y = data['y']\n",
    "    results = sm.OLS(y, X).fit()\n",
    "    return pd.read_html(results.summary().tables[1].as_html(), header=0, index_col=0)[0].loc['D']"
   ]
  },
  {
   "cell_type": "code",
   "execution_count": 7,
   "metadata": {},
   "outputs": [],
   "source": [
    "def generate_estimates(repetitions, data_params, g_estimator, m_estimator):\n",
    "    DML_results = pd.DataFrame()\n",
    "    NR_results = pd.DataFrame()\n",
    "    for i in tqdm(range(repetitions)):\n",
    "        data = generate_data(**data_params, random_state=i)\n",
    "        DML_results = DML_results.append(fit_DML(data, g_estimator, m_estimator))\n",
    "        NR_results = NR_results.append(fit_naive_reg(data))\n",
    "    return {'DML': DML_results, 'OLS': NR_results}"
   ]
  },
  {
   "cell_type": "code",
   "execution_count": 8,
   "metadata": {},
   "outputs": [],
   "source": [
    "data_params = {'n': 5000,\n",
    "               'dim': 3,\n",
    "               'theta': 0.5}"
   ]
  },
  {
   "cell_type": "code",
   "execution_count": 9,
   "metadata": {},
   "outputs": [],
   "source": [
    "generate_data(**data_params, random_state=0).to_csv(\"C:\\\\_Dissertation\\\\Data\\\\Story data n=5000.csv\")"
   ]
  },
  {
   "cell_type": "code",
   "execution_count": 10,
   "metadata": {},
   "outputs": [],
   "source": [
    "m_estimator = MLPRegressor(activation='relu', alpha=0.0001, batch_size='auto', beta_1=0.9,\n",
    "              beta_2=0.999, early_stopping=False, epsilon=1e-08,\n",
    "              hidden_layer_sizes=(100,), learning_rate='constant',\n",
    "              learning_rate_init=0.001, max_fun=15000, max_iter=200,\n",
    "              momentum=0.9, n_iter_no_change=10, nesterovs_momentum=True,\n",
    "              power_t=0.5, random_state=None, shuffle=True, solver='adam',\n",
    "              tol=0.0001, validation_fraction=0.1, verbose=False,\n",
    "              warm_start=False)\n",
    "g_estimator = RandomForestRegressor(bootstrap=True, ccp_alpha=0.0, criterion='mse',\n",
    "                       max_depth=40, max_features='auto', max_leaf_nodes=None,\n",
    "                       max_samples=None, min_impurity_decrease=0.0,\n",
    "                       min_impurity_split=None, min_samples_leaf=1,\n",
    "                       min_samples_split=2, min_weight_fraction_leaf=0.0,\n",
    "                       n_estimators=100, n_jobs=None, oob_score=False,\n",
    "                       random_state=None, verbose=0, warm_start=False)"
   ]
  },
  {
   "cell_type": "code",
   "execution_count": 11,
   "metadata": {},
   "outputs": [
    {
     "data": {
      "application/vnd.jupyter.widget-view+json": {
       "model_id": "863818b8118849bfa491566716c9d7a7",
       "version_major": 2,
       "version_minor": 0
      },
      "text/plain": [
       "HBox(children=(FloatProgress(value=0.0), HTML(value='')))"
      ]
     },
     "metadata": {},
     "output_type": "display_data"
    },
    {
     "name": "stdout",
     "output_type": "stream",
     "text": [
      "\n"
     ]
    }
   ],
   "source": [
    "results = generate_estimates(100, data_params, g_estimator, m_estimator)"
   ]
  },
  {
   "cell_type": "code",
   "execution_count": 12,
   "metadata": {},
   "outputs": [],
   "source": [
    "plt.rcParams[\"figure.figsize\"] = (12,6)"
   ]
  },
  {
   "cell_type": "code",
   "execution_count": 13,
   "metadata": {
    "scrolled": true
   },
   "outputs": [
    {
     "data": {
      "image/png": "[encoded data removed]",
      "text/plain": [
       "<Figure size 864x432 with 1 Axes>"
      ]
     },
     "metadata": {
      "needs_background": "light"
     },
     "output_type": "display_data"
    }
   ],
   "source": [
    "sns.distplot(results['DML'][\"coef\"], color=\"red\", label=\"DML\", hist=True, kde=True)\n",
    "plt.axvline(x=data_params['theta'], ymin=0, ymax=5)\n",
    "plt.savefig('C:\\\\_Dissertation\\\\Histograms\\\\Story data n=5000 DML.png')"
   ]
  },
  {
   "cell_type": "code",
   "execution_count": 14,
   "metadata": {},
   "outputs": [
    {
     "data": {
      "image/png": "[encoded data removed]",
      "text/plain": [
       "<Figure size 864x432 with 1 Axes>"
      ]
     },
     "metadata": {
      "needs_background": "light"
     },
     "output_type": "display_data"
    }
   ],
   "source": [
    "sns.distplot(results['DML'][\"coef\"], color=\"red\", label=\"DML\", hist=False, kde=True)\n",
    "sns.distplot(results['OLS'][\"coef\"], color=\"skyblue\", label=\"OLS\", hist=False, kde=True)\n",
    "plt.axvline(x=data_params['theta'], ymin=0, ymax=5)\n",
    "plt.savefig('C:\\\\_Dissertation\\\\Histograms\\\\Story data n=5000 DML, OLS.png')"
   ]
  },
  {
   "cell_type": "code",
   "execution_count": 15,
   "metadata": {},
   "outputs": [],
   "source": [
    "results['DML'].index = range(len(results['DML']))\n",
    "results['DML'].to_csv(\"C:\\\\_Dissertation\\\\Histograms\\\\Story data n=5000 DML.csv\")"
   ]
  },
  {
   "cell_type": "code",
   "execution_count": 16,
   "metadata": {},
   "outputs": [],
   "source": [
    "results['OLS'].index = range(len(results['OLS']))\n",
    "results['OLS'].to_csv(\"C:\\\\_Dissertation\\\\Histograms\\\\Story data n=5000 OLS.csv\")"
   ]
  }
 ],
 "metadata": {
  "kernelspec": {
   "display_name": "Python 3",
   "language": "python",
   "name": "python3"
  },
  "language_info": {
   "codemirror_mode": {
    "name": "ipython",
    "version": 3
   },
   "file_extension": ".py",
   "mimetype": "text/x-python",
   "name": "python",
   "nbconvert_exporter": "python",
   "pygments_lexer": "ipython3",
   "version": "3.7.6"
  }
 },
 "nbformat": 4,
 "nbformat_minor": 4
}
